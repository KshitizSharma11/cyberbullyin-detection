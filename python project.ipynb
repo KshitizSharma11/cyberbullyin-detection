{
 "cells": [
  {
   "cell_type": "code",
   "execution_count": 1,
   "metadata": {},
   "outputs": [],
   "source": [
    "import pandas as pd\n",
    "import numpy as np\n",
    "import nltk as nlt\n",
    "import re"
   ]
  },
  {
   "cell_type": "code",
   "execution_count": 2,
   "metadata": {},
   "outputs": [],
   "source": [
    "df = pd.read_csv(\"C:/Users/hp/Downloads/trac-1-master/trac-1-master/hindi/agr_hi_train.csv\")\n",
    "df2 = pd.read_csv(\"C:/Users/hp/Downloads/trac-1-master/trac-1-master/hindi/agr_hi_dev.csv\")"
   ]
  },
  {
   "cell_type": "code",
   "execution_count": 3,
   "metadata": {},
   "outputs": [],
   "source": [
    "\n",
    "\n",
    "\n",
    "\n",
    "# Define a regular expression to match Devanagari characters\n",
    "devanagari_pattern = re.compile(r'[\\u0900-\\u097F]+')\n",
    "\n",
    "# Identify rows that contain Devanagari characters in 'text' column\n",
    "devanagari_rows1 = df['text'].str.contains(devanagari_pattern).fillna(False)\n",
    "devanagari_rows2 = df2['text'].str.contains(devanagari_pattern).fillna(False)\n",
    "\n",
    "# Drop rows that contain Devanagari characters\n",
    "df = df.drop(df[devanagari_rows1].index)\n",
    "df2 = df2.drop(df2[devanagari_rows2].index)\n",
    "\n",
    "# Print the resulting DataFrame\n",
    "\n"
   ]
  },
  {
   "cell_type": "code",
   "execution_count": null,
   "metadata": {},
   "outputs": [],
   "source": []
  },
  {
   "cell_type": "code",
   "execution_count": 4,
   "metadata": {},
   "outputs": [],
   "source": [
    "df['text'] = df['text'].str.lower()\n",
    "df2['text'] = df2['text'].str.lower()"
   ]
  },
  {
   "cell_type": "code",
   "execution_count": 5,
   "metadata": {},
   "outputs": [],
   "source": [
    "import string\n",
    "\n",
    "# Define the punctuation marks to remove\n",
    "punct = string.punctuation\n",
    "\n",
    "# Remove the punctuation marks from the text\n",
    "df['text'] = df['text'].astype(str).apply(lambda x: ''.join(ch for ch in x if ch not in punct))\n",
    "df2['text'] = df2['text'].astype(str).apply(lambda x: ''.join(ch for ch in x if ch not in punct))"
   ]
  },
  {
   "cell_type": "code",
   "execution_count": 6,
   "metadata": {},
   "outputs": [],
   "source": [
    "#remove numbers\n",
    "df['text'] = df['text'].str.replace('\\d+', '')\n",
    "df2['text'] = df2['text'].str.replace('\\d+', '')"
   ]
  },
  {
   "cell_type": "code",
   "execution_count": 7,
   "metadata": {},
   "outputs": [],
   "source": [
    "#remove urls\n",
    "import re\n",
    "df['text'] = df['text'].apply(lambda x: re.sub(r'http\\S+', '', x))\n",
    "df2['text'] = df2['text'].apply(lambda x: re.sub(r'http\\S+', '', x))"
   ]
  },
  {
   "cell_type": "code",
   "execution_count": null,
   "metadata": {},
   "outputs": [],
   "source": [
    "import nltk\n",
    "nltk.download('punkt')\n",
    "\n",
    "df['tokens'] = df['text'].apply(lambda x: nltk.word_tokenize(x))\n",
    "df2['tokens'] = df2['text'].apply(lambda x: nltk.word_tokenize(x))\n"
   ]
  },
  {
   "cell_type": "code",
   "execution_count": 8,
   "metadata": {},
   "outputs": [
    {
     "name": "stderr",
     "output_type": "stream",
     "text": [
      "[nltk_data] Downloading package stopwords to\n",
      "[nltk_data]     C:\\Users\\hp\\AppData\\Roaming\\nltk_data...\n",
      "[nltk_data]   Package stopwords is already up-to-date!\n"
     ]
    },
    {
     "name": "stdout",
     "output_type": "stream",
     "text": [
      "{'wasn', 'we', 'but', \"wouldn't\", 'and', 'have', 'down', 'above', 'am', 'your', 'did', 'what', 'very', 'was', 'you', 'into', 'hadn', 'yourself', 'himself', 'having', 'for', 'only', 'how', 'than', 'itself', \"you're\", 'over', 'further', 'both', 'so', 'just', 'any', 'from', 'be', 'can', \"isn't\", \"haven't\", 'is', 'isn', 'ours', 'other', 'herself', 'here', 'most', 'don', \"didn't\", 'our', 'her', \"won't\", 'some', 'at', 'it', 'being', 'again', \"don't\", 'his', 'same', 'before', 'my', 'after', 'ourselves', 'their', 'or', 'by', 's', 'where', \"mustn't\", 'until', 'them', 'yourselves', 'then', 'couldn', 'its', 'were', \"doesn't\", 'once', \"weren't\", 'i', 'through', 'myself', 'when', 'if', 'mightn', \"mightn't\", 'out', 'a', 'to', 'which', 'off', 'ain', 'they', 'me', 'between', \"couldn't\", 'weren', 'in', 'during', 'll', 'all', 'under', \"wasn't\", 'won', 'these', 'yours', 'about', \"hasn't\", 'the', 'will', \"it's\", 'doesn', 'each', 'against', 'wouldn', 'shouldn', 'an', 'too', 'm', 'aren', 'more', 'why', 'didn', 'ma', 'haven', \"needn't\", 'because', 'not', 'on', 'needn', 'o', 'few', 've', \"should've\", \"you'll\", 'he', \"that'll\", 'mustn', 'up', 'of', 'below', \"you've\", 'nor', 're', 'as', 'y', 'shan', \"you'd\", 'doing', 'this', 'those', 'theirs', \"hadn't\", 't', 'hasn', 'do', \"shouldn't\", 'does', 'has', 'had', 'there', 'now', 'themselves', \"shan't\", 'been', 'she', 'whom', 'no', 'such', 'while', 'own', \"she's\", 'that', 'him', 'with', 'who', 'should', 'hers', 'are', \"aren't\", 'd'}\n"
     ]
    }
   ],
   "source": [
    "import nltk\n",
    "from nltk.tokenize import word_tokenize\n",
    "nltk.download('stopwords')\n",
    "from nltk.corpus import stopwords\n",
    "\n",
    "# Load NLTK stopword list and add custom stopwords\n",
    "stop = set(stopwords.words(\"english\"))\n",
    "with open('C:/Users/hp/Downloads/trac-1-master/trac-1-master/hindi/stopwords.txt.txt', 'r') as f:\n",
    "    custom_stopwords = [word.strip() for word in f]\n",
    "#stop = nltk_stopwords.union(custom_stopwords)\n",
    "\n",
    "# Tokenize text column\n",
    "df['tokens'] = df['text'].apply(lambda x: word_tokenize(x))\n",
    "df2['tokens']=df2['text'].apply(lambda x: word_tokenize(x))\n",
    "# Remove stopwords\n",
    "df['tokens'] = df['tokens'].apply(lambda x: [word for word in x if word.lower() not in stop])\n",
    "df2['tokens'] = df2['tokens'].apply(lambda x: [word for word in x if word.lower() not in stop])\n",
    "print(stop)"
   ]
  },
  {
   "cell_type": "code",
   "execution_count": null,
   "metadata": {},
   "outputs": [],
   "source": [
    "\n",
    "\n"
   ]
  },
  {
   "cell_type": "code",
   "execution_count": null,
   "metadata": {},
   "outputs": [],
   "source": [
    "df"
   ]
  },
  {
   "cell_type": "code",
   "execution_count": null,
   "metadata": {},
   "outputs": [],
   "source": [
    "df['text'].findNA"
   ]
  },
  {
   "cell_type": "code",
   "execution_count": null,
   "metadata": {},
   "outputs": [],
   "source": [
    "df.findNA"
   ]
  },
  {
   "cell_type": "code",
   "execution_count": null,
   "metadata": {},
   "outputs": [],
   "source": [
    "import re\n",
    "\n",
    "# Replace any non-alphanumeric characters with a space\n",
    "df['text'] = df['text'].apply(lambda x: re.sub(r'[^a-zA-Z0-9\\s]', ' ', x))\n",
    "\n",
    "# Alternatively, remove any non-alphanumeric characters\n",
    "df['text'] = df['text'].apply(lambda x: re.sub(r'[^a-zA-Z0-9]', '', x))\n"
   ]
  },
  {
   "cell_type": "code",
   "execution_count": null,
   "metadata": {},
   "outputs": [],
   "source": [
    "df"
   ]
  },
  {
   "cell_type": "code",
   "execution_count": null,
   "metadata": {},
   "outputs": [],
   "source": [
    "df = df.dropna(subset=['text'])"
   ]
  },
  {
   "cell_type": "code",
   "execution_count": null,
   "metadata": {},
   "outputs": [],
   "source": [
    "df.\n"
   ]
  },
  {
   "cell_type": "code",
   "execution_count": null,
   "metadata": {},
   "outputs": [],
   "source": [
    "missing_values = df.isna().sum()"
   ]
  },
  {
   "cell_type": "code",
   "execution_count": null,
   "metadata": {
    "scrolled": true
   },
   "outputs": [],
   "source": [
    "\n"
   ]
  },
  {
   "cell_type": "code",
   "execution_count": 9,
   "metadata": {},
   "outputs": [],
   "source": [
    "import nltk\n",
    "from nltk.stem import WordNetLemmatizer\n",
    "\n",
    "# Initialize a lemmatizer object\n",
    "lemmatizer = WordNetLemmatizer()\n",
    "\n",
    "# Lemmatize the text data\n",
    "df['tokens'] = df['tokens'].apply(lambda x: ' '.join(x))\n",
    "df['tokens'] = df['tokens'].apply(lambda x: ' '.join([lemmatizer.lemmatize(word) for word in x.split()]))\n",
    "df2['tokens'] = df2['tokens'].apply(lambda x: ' '.join(x))\n",
    "df2['tokens'] = df2['tokens'].apply(lambda x: ' '.join([lemmatizer.lemmatize(word) for word in x.split()]))\n"
   ]
  },
  {
   "cell_type": "code",
   "execution_count": null,
   "metadata": {},
   "outputs": [],
   "source": [
    "import nltk\n",
    "\n",
    "from nltk.stem import PorterStemmer\n",
    "\n",
    "# Initialize a stemmer object\n",
    "porter = PorterStemmer()\n",
    "\n",
    "\n",
    "\n",
    "\n",
    "\n",
    "\n",
    "\n",
    "# Stem the text data\n",
    "df['tokens'] = df['tokens'].apply(lambda x: ' '.join(x))\n",
    "df['tokenx'] = df['tokens'].apply(lambda x: ' '.join([porter.stem(word) for word in x.split()]))\n",
    "df2['tokens'] = df2['tokens'].apply(lambda x: ' '.join(x))\n",
    "df2['tokens'] = df2['tokens'].apply(lambda x: ' '.join([porter.stem(word) for word in x.split()]))\n",
    "\n"
   ]
  },
  {
   "cell_type": "code",
   "execution_count": null,
   "metadata": {},
   "outputs": [],
   "source": [
    "from sklearn.feature_extraction.text import TfidfVectorizer\n",
    "\n",
    "# Initialize a TfidfVectorizer object\n",
    "tfidf_vectorizer = TfidfVectorizer()\n",
    "\n",
    "# Create a document-term matrix\n",
    "doc_term_matrix = tfidf_vectorizer.fit_transform(df['text'])\n"
   ]
  },
  {
   "cell_type": "code",
   "execution_count": 10,
   "metadata": {},
   "outputs": [],
   "source": [
    "from sklearn.model_selection import train_test_split\n",
    "\n",
    "# Define text data and labels\n",
    "X_train = df['tokens']\n",
    "y_train = df['class']\n",
    "X_test =df2['tokens']\n",
    "y_test=df2['class']\n"
   ]
  },
  {
   "cell_type": "code",
   "execution_count": 11,
   "metadata": {},
   "outputs": [],
   "source": [
    "from sklearn.feature_extraction.text import TfidfVectorizer\n",
    "\n",
    "# Create a TfidfVectorizer object\n",
    "vectorizer = TfidfVectorizer()\n",
    "\n",
    "# Fit and transform the training data\n",
    "X_train_vec = vectorizer.fit_transform(X_train)\n",
    "\n",
    "# Transform the testing data\n",
    "X_test_vec = vectorizer.transform(X_test)\n"
   ]
  },
  {
   "cell_type": "code",
   "execution_count": 12,
   "metadata": {},
   "outputs": [
    {
     "name": "stdout",
     "output_type": "stream",
     "text": [
      "Accuracy: 0.8549\n",
      "Precision: 0.8547\n",
      "Recall: 1.0\n",
      "F1 Score: 0.9217\n"
     ]
    }
   ],
   "source": [
    "from sklearn.feature_extraction.text import CountVectorizer\n",
    "from sklearn.naive_bayes import BernoulliNB\n",
    "from sklearn.metrics import accuracy_score, precision_score, recall_score, f1_score\n",
    "\n",
    "# Assuming that 'X' contains the text data and 'y' contains the target labels\n",
    "\n",
    "\n",
    "# Train the Bernoulli Naive Bayes classifier\n",
    "clf = BernoulliNB()\n",
    "clf.fit(X_train_vec, y_train)\n",
    "\n",
    "# Make predictions on the test data\n",
    "y_predNB = clf.predict(X_test_vec)\n",
    "\n",
    "# Calculate the accuracy of the classifier\n",
    "accuracy = accuracy_score(y_test, y_predNB)\n",
    "precision = precision_score(y_test, y_predNB, pos_label='AG')\n",
    "recall = recall_score(y_test, y_predNB, pos_label='AG')\n",
    "f1 = f1_score(y_test, y_predNB, pos_label='AG')\n",
    "\n",
    "\n",
    "print(f'Accuracy: {accuracy:.4f}')\n",
    "print(f'Precision: {precision:.4f}')\n",
    "print(f'Recall: {recall}')\n",
    "print(f'F1 Score: {f1:.4f}')\n"
   ]
  },
  {
   "cell_type": "code",
   "execution_count": 13,
   "metadata": {},
   "outputs": [],
   "source": [
    "from sklearn.svm import SVC\n",
    "\n",
    "# Create an SVM classifier object\n",
    "svm = SVC(kernel='linear',random_state=42)\n",
    "\n",
    "# Fit the SVM classifier on the training data\n",
    "svm.fit(X_train_vec, y_train)\n",
    "\n",
    "# Predict the labels of the testing data using the trained SVM classifier\n",
    "y_pred = svm.predict(X_test_vec)\n",
    "y_pred2=svm.predict(X_train_vec)\n"
   ]
  },
  {
   "cell_type": "code",
   "execution_count": 14,
   "metadata": {},
   "outputs": [
    {
     "name": "stdout",
     "output_type": "stream",
     "text": [
      "Accuracy: 0.8753\n",
      "Precision: 0.8768\n",
      "Recall: 0.9936\n",
      "F1 Score: 0.9316\n"
     ]
    }
   ],
   "source": [
    "from sklearn.metrics import accuracy_score, precision_score, recall_score, f1_score\n",
    "\n",
    "# Compute the evaluation metrics\n",
    "\n",
    "accuracy = accuracy_score(y_test, y_pred)\n",
    "precision = precision_score(y_test, y_pred, pos_label='AG')\n",
    "recall = recall_score(y_test, y_pred, pos_label='AG')\n",
    "f1 = f1_score(y_test, y_pred, pos_label='AG')\n",
    "\n",
    "# Print the evaluation metrics\n",
    "\n",
    "print(f'Accuracy: {accuracy:.4f}')\n",
    "print(f'Precision: {precision:.4f}')\n",
    "print(f'Recall: {recall:.4f}')\n",
    "print(f'F1 Score: {f1:.4f}')\n"
   ]
  },
  {
   "cell_type": "code",
   "execution_count": 15,
   "metadata": {},
   "outputs": [],
   "source": [
    "from sklearn.tree import DecisionTreeClassifier\n",
    "from sklearn.metrics import accuracy_score, precision_score, recall_score, f1_score\n",
    "clfdt = DecisionTreeClassifier(random_state=42)\n",
    "clfdt.fit(X_train_vec, y_train)\n",
    "\n",
    "# Predict the labels of the testing data using the trained decision tree classifier\n",
    "y_preddt = clfdt.predict(X_test_vec)"
   ]
  },
  {
   "cell_type": "code",
   "execution_count": 16,
   "metadata": {},
   "outputs": [
    {
     "name": "stdout",
     "output_type": "stream",
     "text": [
      "Accuracy: 0.7998180163785259\n",
      "Precision: 0.8963044677330392\n",
      "Recall: 0.8657432072456047\n",
      "F1 score: 0.8807588075880759\n"
     ]
    }
   ],
   "source": [
    "accuracy = accuracy_score(y_test, y_preddt)\n",
    "precision = precision_score(y_test, y_preddt, pos_label='AG')\n",
    "recall = recall_score(y_test, y_preddt, pos_label='AG')\n",
    "f1 = f1_score(y_test, y_preddt, pos_label='AG')\n",
    "\n",
    "print(\"Accuracy:\", accuracy)\n",
    "print(\"Precision:\", precision)\n",
    "print(\"Recall:\", recall)\n",
    "print(\"F1 score:\", f1)"
   ]
  },
  {
   "cell_type": "code",
   "execution_count": 17,
   "metadata": {},
   "outputs": [],
   "source": [
    "from sklearn.ensemble import RandomForestClassifier\n",
    "rfc = RandomForestClassifier(n_estimators=100, random_state=42)\n",
    "\n",
    "# Fit the Random Forest Classifier on the training data\n",
    "rfc.fit(X_train_vec, y_train)\n",
    "\n",
    "# Predict the labels of the testing data using the trained Random Forest Classifier\n",
    "y_predrfc = rfc.predict(X_test_vec)\n",
    "\n",
    "# Evaluate the performance of the Random Forest Classifier\n",
    "accuracy = accuracy_score(y_test, y_predrfc)\n",
    "precision = precision_score(y_test, y_predrfc, pos_label='AG')\n",
    "recall = recall_score(y_test, y_predrfc, pos_label='AG')\n",
    "f1 = f1_score(y_test, y_preddt, pos_label='AG')"
   ]
  },
  {
   "cell_type": "code",
   "execution_count": 18,
   "metadata": {},
   "outputs": [
    {
     "name": "stdout",
     "output_type": "stream",
     "text": [
      "0.8726114649681529\n",
      "0.9706979222163026\n",
      "0.8900830483634588\n",
      "0.8807588075880759\n"
     ]
    }
   ],
   "source": [
    "print(accuracy)\n",
    "print(recall)\n",
    "print(precision)\n",
    "print(f1)"
   ]
  },
  {
   "cell_type": "code",
   "execution_count": null,
   "metadata": {},
   "outputs": [],
   "source": [
    "from sklearn.model_selection import GridSearchCV\n",
    "from keras.wrappers.scikit_learn import KerasClassifier\n",
    "from keras.models import Sequential\n",
    "from keras.layers import Dense, Dropout, Embedding, LSTM\n",
    "from keras.optimizers import Adam\n",
    "from keras.preprocessing.text import Tokenizer\n",
    "from keras.preprocessing.sequence import pad_sequences\n",
    "import numpy as np\n",
    "\n",
    "# Load the data\n",
    "train_data = df.sample(frac=0.8, random_state=42)\n",
    "test_data = df.drop(train_data.index)\n",
    "texts_train = train_data['text'].tolist()\n",
    "labels_train = train_data['class'].tolist()\n",
    "texts_test = test_data['text'].tolist()\n",
    "labels_test = test_data['class'].tolist()\n",
    "# Tokenize the text\n",
    "tokenizer = Tokenizer(num_words=10000)\n",
    "tokenizer.fit_on_texts(texts_train)\n",
    "sequences_train = tokenizer.texts_to_sequences(texts_train)\n",
    "sequences_test = tokenizer.texts_to_sequences(texts_test)\n",
    "x_train = pad_sequences(sequences_train, maxlen=100)\n",
    "x_test = pad_sequences(sequences_test, maxlen=100)\n",
    "\n",
    "# Convert the labels to numerical values\n",
    "y_train = np.array([1 if label == 'AG' else 0 for label in labels_train])\n",
    "y_test = np.array([1 if label == 'AG' else 0 for label in labels_test])\n",
    "\n",
    "# Define the model\n",
    "def create_model(units=64, dropout_rate=0.5, learning_rate=0.001):\n",
    "    model = Sequential()\n",
    "    model.add(Embedding(input_dim=10000, output_dim=64, input_length=100))\n",
    "    model.add(LSTM(units=units))\n",
    "    model.add(Dropout(dropout_rate))\n",
    "    model.add(Dense(units=1, activation='sigmoid'))\n",
    "    optimizer = Adam(learning_rate=learning_rate)\n",
    "    model.compile(loss='binary_crossentropy', optimizer=optimizer, metrics=['accuracy'])\n",
    "    return model\n",
    "\n",
    "# Create the classifier\n",
    "model = KerasClassifier(build_fn=create_model, verbose=0)\n",
    "\n",
    "# Define the hyperparameters to tune\n",
    "param_grid = {\n",
    "    'units': [32, 64, 128],\n",
    "    'dropout_rate': [0.3, 0.5, 0.7],\n",
    "    'learning_rate': [0.001, 0.01, 0.1]\n",
    "}\n",
    "\n",
    "# Tune the hyperparameters\n",
    "grid = GridSearchCV(estimator=model, param_grid=param_grid, cv=3)\n",
    "grid_result = grid.fit(x_train, y_train)\n",
    "\n",
    "# Print the best results\n",
    "print(\"Best: %f using %s\" % (grid_result.best_score_, grid_result.best_params_))\n"
   ]
  },
  {
   "cell_type": "code",
   "execution_count": 19,
   "metadata": {},
   "outputs": [
    {
     "name": "stdout",
     "output_type": "stream",
     "text": [
      "Accuracy: 0.8644222020018199\n",
      "Precision: 0.8646651270207852\n",
      "Recall: 0.9973361747469366\n",
      "F1 Score: 0.9262741217219199\n"
     ]
    }
   ],
   "source": [
    "from sklearn.linear_model import LogisticRegression\n",
    "lg = LogisticRegression(random_state=0)\n",
    "lg.fit(X_train_vec, y_train)\n",
    "y_pred_lg = lg.predict(X_test_vec)\n",
    "accuracy = accuracy_score(y_test, y_pred_lg)\n",
    "precision = precision_score(y_test, y_pred_lg, pos_label='AG')\n",
    "recall = recall_score(y_test, y_pred_lg, pos_label='AG')\n",
    "f1 = f1_score(y_test, y_pred_lg, pos_label='AG')\n",
    "\n",
    "# Print the evaluation metrics\n",
    "print('Accuracy:', accuracy)\n",
    "print('Precision:', precision)\n",
    "print('Recall:', recall)\n",
    "print('F1 Score:', f1)"
   ]
  },
  {
   "cell_type": "code",
   "execution_count": 20,
   "metadata": {},
   "outputs": [
    {
     "name": "stdout",
     "output_type": "stream",
     "text": [
      "              precision    recall  f1-score   support\n",
      "\n",
      "          AG       0.88      0.99      0.93      1877\n",
      "         NAG       0.83      0.18      0.30       321\n",
      "\n",
      "    accuracy                           0.88      2198\n",
      "   macro avg       0.85      0.59      0.62      2198\n",
      "weighted avg       0.87      0.88      0.84      2198\n",
      "\n"
     ]
    }
   ],
   "source": [
    "\n",
    "from sklearn.ensemble import RandomForestClassifier, BaggingClassifier\n",
    "from sklearn.feature_extraction.text import CountVectorizer\n",
    "from sklearn.metrics import classification_report\n",
    "from sklearn.model_selection import train_test_split\n",
    "\n",
    "# Assuming the dataset is loaded into 'df' DataFrame\n",
    "\n",
    "\n",
    "# Creating a Bagging Classifier with Random Forest as the base estimator\n",
    "bagging_classifier = BaggingClassifier(\n",
    "    base_estimator=RandomForestClassifier(),\n",
    "    n_estimators=10, # Number of base estimators to use\n",
    "    random_state=42\n",
    ")\n",
    "\n",
    "# Creating a CountVectorizer to convert text to numerical features\n",
    "\n",
    "\n",
    "# Training the model\n",
    "bagging_classifier.fit(X_train_vec, y_train)\n",
    "\n",
    "# Evaluating the model on the testing data\n",
    "y_predrfabg = bagging_classifier.predict(X_test_vec)\n",
    "print(classification_report(y_test, y_pred))\n"
   ]
  },
  {
   "cell_type": "code",
   "execution_count": 21,
   "metadata": {},
   "outputs": [
    {
     "name": "stdout",
     "output_type": "stream",
     "text": [
      "Accuracy: 0.873066424021838\n",
      "Precision: 0.8837656099903939\n",
      "Recall: 0.9802876931273309\n",
      "F1 Score: 0.9295276584996212\n"
     ]
    }
   ],
   "source": [
    "\n",
    "accuracy = accuracy_score(y_test, y_predrfabg)\n",
    "precision = precision_score(y_test, y_predrfabg, pos_label='AG')\n",
    "recall = recall_score(y_test, y_predrfabg, pos_label='AG')\n",
    "f1 = f1_score(y_test, y_predrfabg, pos_label='AG')\n",
    "\n",
    "# Print the evaluation metrics\n",
    "print('Accuracy:', accuracy)\n",
    "print('Precision:', precision)\n",
    "print('Recall:', recall)\n",
    "print('F1 Score:', f1)"
   ]
  },
  {
   "cell_type": "code",
   "execution_count": null,
   "metadata": {},
   "outputs": [],
   "source": [
    "print(df)"
   ]
  },
  {
   "cell_type": "code",
   "execution_count": null,
   "metadata": {},
   "outputs": [],
   "source": [
    "print(df2)"
   ]
  },
  {
   "cell_type": "code",
   "execution_count": null,
   "metadata": {},
   "outputs": [],
   "source": [
    "11077"
   ]
  },
  {
   "cell_type": "code",
   "execution_count": 23,
   "metadata": {},
   "outputs": [
    {
     "data": {
      "image/png": "[encoded data removed]",
      "text/plain": [
       "<Figure size 432x288 with 1 Axes>"
      ]
     },
     "metadata": {
      "needs_background": "light"
     },
     "output_type": "display_data"
    }
   ],
   "source": [
    "import matplotlib.pyplot as plt\n",
    "import numpy as np\n",
    "\n",
    "# Define accuracy and F1 score values for each algorithm\n",
    "algorithms = ['SVM',\n",
    "'Naïve Bayes',\n",
    "'Logistic Regression',\n",
    "'Decision Tree',\n",
    "'Random Forest(Bagging)']\n",
    "\n",
    "accuracy = [0.8753,\n",
    "0.8549,\n",
    "0.8644,\n",
    "0.7998,\n",
    "0.8730\n",
    "]\n",
    "f1_score = [0.9316,\n",
    "0.9295,\n",
    "0.9262,\n",
    "0.8807,\n",
    "0.9295\n",
    "]\n",
    "\n",
    "# Create a figure and a set of subplots\n",
    "fig, ax = plt.subplots()\n",
    "\n",
    "# Create the histogram of accuracy scores\n",
    "n, bins, patches = ax.hist(accuracy, alpha=0.5, label='Accuracy')\n",
    "\n",
    "# Create the histogram of F1 scores\n",
    "n, bins, patches = ax.hist(f1_score, alpha=0.5, label='F1 Score')\n",
    "\n",
    "# Add some text for labels, title and custom x-axis tick labels, etc.\n",
    "ax.set_xlabel('Scores')\n",
    "ax.set_ylabel('Frequency')\n",
    "ax.set_title('Accuracy and F1 Scores Distribution by Algorithm')\n",
    "ax.set_xticks(np.arange(0.6, 1.0, 0.05))\n",
    "ax.set_xticklabels(['60%', '65%', '70%', '75%', '80%', '85%', '90%', '95%'])\n",
    "ax.legend()\n",
    "\n",
    "# Show the plot\n",
    "plt.show()\n"
   ]
  },
  {
   "cell_type": "code",
   "execution_count": 52,
   "metadata": {},
   "outputs": [
    {
     "name": "stderr",
     "output_type": "stream",
     "text": [
      "<ipython-input-52-8bd25866945e>:40: UserWarning: FixedFormatter should only be used together with FixedLocator\n",
      "  ax.set_yticklabels(['{:,.0%}'.format(y) for y in ax.get_yticks()])\n"
     ]
    },
    {
     "data": {
      "image/png": "[encoded data removed]",
      "text/plain": [
       "<Figure size 432x288 with 1 Axes>"
      ]
     },
     "metadata": {
      "needs_background": "light"
     },
     "output_type": "display_data"
    }
   ],
   "source": [
    "import matplotlib.pyplot as plt\n",
    "import numpy as np\n",
    "\n",
    "# Define accuracy and F1 score values for each algorithm\n",
    "algorithms = ['SVM','Naïve Bayes','Logistic Regression','Decision Tree','Random Forest(Bagging)']\n",
    "\n",
    "accuracy = [0.8753,0.8549,0.8644,0.7998,0.8730]\n",
    "f1_score = [0.9316,0.9295,0.9262,0.8807,0.9295]\n",
    "\n",
    "\n",
    "# Create a figure and a set of subplots\n",
    "fig, ax = plt.subplots()\n",
    "\n",
    "# Create the histogram of accuracy scores\n",
    "n, bins, patches = ax.hist(accuracy, alpha=0.5, label='Accuracy')\n",
    "\n",
    "# Create the histogram of F1 scores\n",
    "n, bins, patches = ax.hist(f1_score, alpha=0.5, label='F1 Score')\n",
    "\n",
    "# Add some text for labels, title and custom x-axis tick labels, etc.\n",
    "ax.set_xlabel('Algorithms')\n",
    "ax.set_ylabel('Percentage')\n",
    "ax.set_title('Accuracy and F1 Scores Distribution by Algorithm')\n",
    "ax.set_xticks(np.arange(len(algorithms)))\n",
    "ax.set_xticklabels(algorithms)\n",
    "ax.set_yticklabels(['{:,.0%}'.format(y) for y in ax.get_yticks()])\n",
    "ax.legend()\n",
    "\n",
    "# Show the plot\n",
    "plt.show()\n"
   ]
  },
  {
   "cell_type": "code",
   "execution_count": 53,
   "metadata": {},
   "outputs": [
    {
     "data": {
      "image/png": "[encoded data removed]",
      "text/plain": [
       "<Figure size 432x288 with 1 Axes>"
      ]
     },
     "metadata": {
      "needs_background": "light"
     },
     "output_type": "display_data"
    }
   ],
   "source": [
    "import matplotlib.pyplot as plt\n",
    "import numpy as np\n",
    "\n",
    "# Define accuracy and recall values for each algorithm\n",
    "\n",
    "\n",
    "# Create a figure and a set of subplots\n",
    "fig, ax = plt.subplots()\n",
    "\n",
    "# Set the width of each bar\n",
    "bar_width = 0.3\n",
    "\n",
    "\n",
    "# Set the x position of each bar\n",
    "x_pos = np.arange(len(algorithms))\n",
    "\n",
    "# Plot the accuracy bars\n",
    "ax.bar(x_pos, accuracy, width=bar_width, label='Accuracy')\n",
    "\n",
    "# Plot the recall bars\n",
    "ax.bar(x_pos + bar_width, recall, width=bar_width, label='Recall')\n",
    "\n",
    "# Add some text for labels, title and custom x-axis tick labels, etc.\n",
    "ax.set_xlabel('Algorithms')\n",
    "ax.set_ylabel('Scores')\n",
    "ax.set_title('Accuracy and Recall Scores by Algorithm')\n",
    "ax.set_xticks(x_pos + bar_width / 2)\n",
    "ax.set_xticklabels(algorithms)\n",
    "ax.legend(loc='lower center', bbox_to_anchor=(0.5, -0.3), ncol=2)\n",
    "\n",
    "# Show the plot\n",
    "plt.show()\n"
   ]
  },
  {
   "cell_type": "code",
   "execution_count": 54,
   "metadata": {},
   "outputs": [
    {
     "data": {
      "image/png": "[encoded data removed]",
      "text/plain": [
       "<Figure size 432x288 with 1 Axes>"
      ]
     },
     "metadata": {
      "needs_background": "light"
     },
     "output_type": "display_data"
    }
   ],
   "source": [
    "import matplotlib.pyplot as plt\n",
    "import numpy as np\n",
    "\n",
    "# Define accuracy and recall values for each algorithm\n",
    "\n",
    "\n",
    "# Create a figure and a set of subplots\n",
    "fig, ax = plt.subplots()\n",
    "\n",
    "# Set the width of each bar and the padding between the bars\n",
    "bar_width = 0.3\n",
    "\n",
    "\n",
    "# Set the x position of each bar\n",
    "x_pos = np.arange(len(algorithms))\n",
    "\n",
    "# Plot the accuracy bars\n",
    "ax.bar(x_pos, accuracy, width=bar_width, label='Accuracy')\n",
    "\n",
    "# Plot the recall bars\n",
    "ax.bar(x_pos + bar_width + bar_padding, recall, width=bar_width, label='Recall')\n",
    "\n",
    "# Add some text for labels, title and custom x-axis tick labels, etc.\n",
    "ax.set_xlabel('Algorithms')\n",
    "ax.set_ylabel('Scores')\n",
    "ax.set_title('Accuracy and Recall Scores by Algorithm')\n",
    "ax.set_xticks(x_pos + bar_width / 2)\n",
    "ax.set_xticklabels(algorithms)\n",
    "ax.legend()\n",
    "\n",
    "# Show the plot\n",
    "plt.show()\n"
   ]
  },
  {
   "cell_type": "code",
   "execution_count": 38,
   "metadata": {},
   "outputs": [
    {
     "data": {
      "image/png": "[encoded data removed]",
      "text/plain": [
       "<Figure size 432x288 with 1 Axes>"
      ]
     },
     "metadata": {
      "needs_background": "light"
     },
     "output_type": "display_data"
    }
   ],
   "source": [
    "import matplotlib.pyplot as plt\n",
    "import numpy as np\n",
    "\n",
    "# Define accuracy and recall values for each algorithm\n",
    "\n",
    "\n",
    "# Create a figure and a set of subplots\n",
    "fig, ax = plt.subplots()\n",
    "\n",
    "# Set the width of each bar and the padding between the bars\n",
    "bar_width = 0.3\n",
    "bar_padding = 1\n",
    "\n",
    "# Set the x position of each bar\n",
    "x_pos = np.arange(len(algorithms))\n",
    "\n",
    "# Plot the accuracy bars\n",
    "ax.bar(x_pos, accuracy, width=bar_width, label='Accuracy')\n",
    "\n",
    "# Plot the recall bars\n",
    "ax.bar(x_pos + bar_width + bar_padding, recall, width=bar_width, label='Recall')\n",
    "\n",
    "# Add some text for labels, title and custom x-axis tick labels, etc.\n",
    "ax.set_xlabel('Algorithms')\n",
    "ax.set_ylabel('Scores')\n",
    "ax.set_title('Accuracy and Recall Scores by Algorithm')\n",
    "ax.set_xticks(x_pos + bar_width / 2 + bar_padding / 2)\n",
    "ax.set_xticklabels(algorithms)\n",
    "ax.legend()\n",
    "\n",
    "# Show the plot\n",
    "plt.show()\n"
   ]
  },
  {
   "cell_type": "code",
   "execution_count": 55,
   "metadata": {},
   "outputs": [
    {
     "data": {
      "image/png": "[encoded data removed]",
      "text/plain": [
       "<Figure size 576x432 with 1 Axes>"
      ]
     },
     "metadata": {
      "needs_background": "light"
     },
     "output_type": "display_data"
    }
   ],
   "source": [
    "import matplotlib.pyplot as plt\n",
    "import numpy as np\n",
    "\n",
    "# Define algorithm names, accuracy, and F1 scores\n",
    "algorithms = ['SVM', 'Naïve Bayes', 'Logistic Regression', 'Decision Tree', 'Random Forest (Bagging)']\n",
    "accuracy = [0.8753, 0.8549, 0.8644, 0.7998, 0.8730]\n",
    "f1_score = [0.9316, 0.9295, 0.9262, 0.8807, 0.9295]\n",
    "\n",
    "# Set the figure size\n",
    "plt.figure(figsize=(8, 6))\n",
    "\n",
    "# Set the bar width and the x positions of the bars\n",
    "bar_width = 0.35\n",
    "x_pos = np.arange(len(algorithms))\n",
    "\n",
    "# Plot the accuracy bars\n",
    "plt.bar(x_pos, accuracy, width=bar_width, alpha=0.7, label='Accuracy')\n",
    "\n",
    "# Plot the F1 score bars\n",
    "plt.bar(x_pos + bar_width, f1_score, width=bar_width, alpha=0.7, label='F1 Score')\n",
    "\n",
    "# Set the x-axis ticks and labels\n",
    "plt.xticks(x_pos + bar_width/2, algorithms, rotation=45, ha='right')\n",
    "\n",
    "# Add axis labels and a title\n",
    "plt.xlabel('Algorithm')\n",
    "plt.ylabel('Score')\n",
    "plt.title('Accuracy and F1 Scores by Algorithm')\n",
    "\n",
    "# Add a legend at the bottom of the plot\n",
    "plt.legend(loc='lower center', bbox_to_anchor=(0.5, -0.3), ncol=2)\n",
    "\n",
    "# Show the plot\n",
    "plt.show()\n"
   ]
  },
  {
   "cell_type": "code",
   "execution_count": 56,
   "metadata": {},
   "outputs": [
    {
     "data": {
      "image/png": "[encoded data removed]",
      "text/plain": [
       "<Figure size 576x432 with 1 Axes>"
      ]
     },
     "metadata": {
      "needs_background": "light"
     },
     "output_type": "display_data"
    }
   ],
   "source": [
    "import matplotlib.pyplot as plt\n",
    "import numpy as np\n",
    "\n",
    "# Define algorithm names, accuracy, and F1 scores\n",
    "algorithms = ['SVM', 'Naïve Bayes', 'Logistic Regression', 'Decision Tree', 'Random Forest (Bagging)']\n",
    "accuracy = [0.8753, 0.8549, 0.8644, 0.7998, 0.8730]\n",
    "f1_score = [0.9316, 0.9295, 0.9262, 0.8807, 0.9295]\n",
    "\n",
    "# Set the figure size\n",
    "plt.figure(figsize=(8, 6))\n",
    "\n",
    "# Set the bar width and the x positions of the bars\n",
    "bar_width = 0.35\n",
    "x_pos = np.arange(len(algorithms))\n",
    "\n",
    "# Plot the accuracy bars\n",
    "plt.bar(x_pos, accuracy, width=bar_width, alpha=0.7, label='Accuracy')\n",
    "\n",
    "# Plot the F1 score bars\n",
    "plt.bar(x_pos + bar_width, f1_score, width=bar_width, alpha=0.7, label='F1 Score')\n",
    "\n",
    "# Set the x-axis ticks and labels\n",
    "plt.xticks(x_pos + bar_width/2, algorithms, rotation=45, ha='right')\n",
    "\n",
    "# Add axis labels and a title\n",
    "plt.xlabel('Algorithm')\n",
    "plt.ylabel('Score')\n",
    "plt.title('Accuracy and F1 Scores by Algorithm')\n",
    "\n",
    "# Add a legend at the top right corner outside the plot area\n",
    "plt.legend(loc='upper right', bbox_to_anchor=(1.2, 1), ncol=1)\n",
    "\n",
    "# Show the plot\n",
    "plt.show()\n"
   ]
  },
  {
   "cell_type": "code",
   "execution_count": 58,
   "metadata": {},
   "outputs": [
    {
     "data": {
      "image/png": "[encoded data removed]",
      "text/plain": [
       "<Figure size 432x288 with 1 Axes>"
      ]
     },
     "metadata": {},
     "output_type": "display_data"
    }
   ],
   "source": [
    "import pandas as pd\n",
    "import matplotlib.pyplot as plt\n",
    "\n",
    "# Create a sample DataFrame\n",
    "\n",
    "# Count the number of instances containing \"AG\" and \"NAG\"\n",
    "counts = df['class'].str.contains('AG').value_counts()\n",
    "\n",
    "# Create a pie chart of the results\n",
    "plt.pie(counts, labels=counts.index, autopct='%1.1f%%')\n",
    "plt.title('Instances containing AG and NAG')\n",
    "plt.show()\n"
   ]
  },
  {
   "cell_type": "code",
   "execution_count": 60,
   "metadata": {},
   "outputs": [
    {
     "data": {
      "image/png": "[encoded data removed]",
      "text/plain": [
       "<Figure size 432x288 with 1 Axes>"
      ]
     },
     "metadata": {},
     "output_type": "display_data"
    }
   ],
   "source": [
    "import pandas as pd\n",
    "import matplotlib.pyplot as plt\n",
    "\n",
    "# Load your cyberbullying dataset into a DataFrame\n",
    "\n",
    "\n",
    "# Count the number of instances in each class\n",
    "class_counts = df['class'].value_counts()\n",
    "\n",
    "# Create a pie chart of the results\n",
    "plt.pie(class_counts, labels=class_counts.index, autopct='%1.1f%%')\n",
    "plt.title(\"Instances in Aggressive 'AG' and Non-Aggresive 'NAG' classes\")\n",
    "plt.show()\n"
   ]
  },
  {
   "cell_type": "code",
   "execution_count": null,
   "metadata": {},
   "outputs": [],
   "source": []
  }
 ],
 "metadata": {
  "kernelspec": {
   "display_name": "Python 3",
   "language": "python",
   "name": "python3"
  },
  "language_info": {
   "codemirror_mode": {
    "name": "ipython",
    "version": 3
   },
   "file_extension": ".py",
   "mimetype": "text/x-python",
   "name": "python",
   "nbconvert_exporter": "python",
   "pygments_lexer": "ipython3",
   "version": "3.8.5"
  }
 },
 "nbformat": 4,
 "nbformat_minor": 4
}
